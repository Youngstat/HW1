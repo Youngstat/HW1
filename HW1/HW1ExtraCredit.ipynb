{
  "nbformat": 4,
  "nbformat_minor": 0,
  "metadata": {
    "colab": {
      "name": "HW1ExtraCredit.ipynb",
      "provenance": [],
      "toc_visible": true,
      "include_colab_link": true
    },
    "kernelspec": {
      "name": "python3",
      "display_name": "Python 3"
    }
  },
  "cells": [
    {
      "cell_type": "markdown",
      "metadata": {
        "id": "view-in-github",
        "colab_type": "text"
      },
      "source": [
        "<a href=\"https://colab.research.google.com/github/Youngstat/HW1/blob/master/HW1ExtraCredit.ipynb\" target=\"_parent\"><img src=\"https://colab.research.google.com/assets/colab-badge.svg\" alt=\"Open In Colab\"/></a>"
      ]
    },
    {
      "cell_type": "markdown",
      "metadata": {
        "id": "z0R0TGbtWEPn",
        "colab_type": "text"
      },
      "source": [
        "MLTSA UDel PHYS667 Sprint 2020"
      ]
    },
    {
      "cell_type": "markdown",
      "metadata": {
        "id": "k8oMoAaaWKIs",
        "colab_type": "text"
      },
      "source": [
        "HW1 Extra Credit :"
      ]
    },
    {
      "cell_type": "markdown",
      "metadata": {
        "id": "rVdc0fnvWNEZ",
        "colab_type": "text"
      },
      "source": [
        "Solve Exercise 1, 2, 3 from https://arxiv.org/pdf/1008.4686.pdf"
      ]
    },
    {
      "cell_type": "code",
      "metadata": {
        "id": "-QYuIR4VQerB",
        "colab_type": "code",
        "outputId": "28c4e403-6215-4baa-fc96-aba34e916c2c",
        "colab": {
          "base_uri": "https://localhost:8080/",
          "height": 34
        }
      },
      "source": [
        "import numpy as np\n",
        "import pandas as pd\n",
        "import matplotlib.pyplot as plt\n",
        "%pylab inline"
      ],
      "execution_count": 120,
      "outputs": [
        {
          "output_type": "stream",
          "text": [
            "Populating the interactive namespace from numpy and matplotlib\n"
          ],
          "name": "stdout"
        }
      ]
    },
    {
      "cell_type": "code",
      "metadata": {
        "id": "03CEUigZQwTL",
        "colab_type": "code",
        "outputId": "6c4e7d71-f439-44b0-a027-16a414530b55",
        "colab": {
          "base_uri": "https://localhost:8080/",
          "height": 195
        }
      },
      "source": [
        "set1 = pd.read_excel(\"/content/extra_credit data.xlsx\")\n",
        "set1.head()"
      ],
      "execution_count": 121,
      "outputs": [
        {
          "output_type": "execute_result",
          "data": {
            "text/html": [
              "<div>\n",
              "<style scoped>\n",
              "    .dataframe tbody tr th:only-of-type {\n",
              "        vertical-align: middle;\n",
              "    }\n",
              "\n",
              "    .dataframe tbody tr th {\n",
              "        vertical-align: top;\n",
              "    }\n",
              "\n",
              "    .dataframe thead th {\n",
              "        text-align: right;\n",
              "    }\n",
              "</style>\n",
              "<table border=\"1\" class=\"dataframe\">\n",
              "  <thead>\n",
              "    <tr style=\"text-align: right;\">\n",
              "      <th></th>\n",
              "      <th>ID</th>\n",
              "      <th>x</th>\n",
              "      <th>y</th>\n",
              "      <th>σy</th>\n",
              "      <th>σx</th>\n",
              "      <th>ρxy</th>\n",
              "    </tr>\n",
              "  </thead>\n",
              "  <tbody>\n",
              "    <tr>\n",
              "      <th>0</th>\n",
              "      <td>1</td>\n",
              "      <td>201</td>\n",
              "      <td>592</td>\n",
              "      <td>61</td>\n",
              "      <td>9</td>\n",
              "      <td>-0.84</td>\n",
              "    </tr>\n",
              "    <tr>\n",
              "      <th>1</th>\n",
              "      <td>2</td>\n",
              "      <td>244</td>\n",
              "      <td>401</td>\n",
              "      <td>25</td>\n",
              "      <td>4</td>\n",
              "      <td>0.31</td>\n",
              "    </tr>\n",
              "    <tr>\n",
              "      <th>2</th>\n",
              "      <td>3</td>\n",
              "      <td>47</td>\n",
              "      <td>583</td>\n",
              "      <td>38</td>\n",
              "      <td>11</td>\n",
              "      <td>0.64</td>\n",
              "    </tr>\n",
              "    <tr>\n",
              "      <th>3</th>\n",
              "      <td>4</td>\n",
              "      <td>287</td>\n",
              "      <td>402</td>\n",
              "      <td>15</td>\n",
              "      <td>7</td>\n",
              "      <td>-0.27</td>\n",
              "    </tr>\n",
              "    <tr>\n",
              "      <th>4</th>\n",
              "      <td>5</td>\n",
              "      <td>203</td>\n",
              "      <td>495</td>\n",
              "      <td>21</td>\n",
              "      <td>5</td>\n",
              "      <td>-0.33</td>\n",
              "    </tr>\n",
              "  </tbody>\n",
              "</table>\n",
              "</div>"
            ],
            "text/plain": [
              "   ID    x    y  σy  σx   ρxy\n",
              "0   1  201  592  61   9 -0.84\n",
              "1   2  244  401  25   4  0.31\n",
              "2   3   47  583  38  11  0.64\n",
              "3   4  287  402  15   7 -0.27\n",
              "4   5  203  495  21   5 -0.33"
            ]
          },
          "metadata": {
            "tags": []
          },
          "execution_count": 121
        }
      ]
    },
    {
      "cell_type": "code",
      "metadata": {
        "id": "Ec772Q2kRX1M",
        "colab_type": "code",
        "outputId": "fe39d766-9258-4e73-d0a3-2b2be0dfa2cc",
        "colab": {
          "base_uri": "https://localhost:8080/",
          "height": 491
        }
      },
      "source": [
        "set2 = set1.iloc[5:20, 0:4]\n",
        "set2"
      ],
      "execution_count": 122,
      "outputs": [
        {
          "output_type": "execute_result",
          "data": {
            "text/html": [
              "<div>\n",
              "<style scoped>\n",
              "    .dataframe tbody tr th:only-of-type {\n",
              "        vertical-align: middle;\n",
              "    }\n",
              "\n",
              "    .dataframe tbody tr th {\n",
              "        vertical-align: top;\n",
              "    }\n",
              "\n",
              "    .dataframe thead th {\n",
              "        text-align: right;\n",
              "    }\n",
              "</style>\n",
              "<table border=\"1\" class=\"dataframe\">\n",
              "  <thead>\n",
              "    <tr style=\"text-align: right;\">\n",
              "      <th></th>\n",
              "      <th>ID</th>\n",
              "      <th>x</th>\n",
              "      <th>y</th>\n",
              "      <th>σy</th>\n",
              "    </tr>\n",
              "  </thead>\n",
              "  <tbody>\n",
              "    <tr>\n",
              "      <th>5</th>\n",
              "      <td>6</td>\n",
              "      <td>58</td>\n",
              "      <td>173</td>\n",
              "      <td>15</td>\n",
              "    </tr>\n",
              "    <tr>\n",
              "      <th>6</th>\n",
              "      <td>7</td>\n",
              "      <td>210</td>\n",
              "      <td>479</td>\n",
              "      <td>27</td>\n",
              "    </tr>\n",
              "    <tr>\n",
              "      <th>7</th>\n",
              "      <td>8</td>\n",
              "      <td>202</td>\n",
              "      <td>504</td>\n",
              "      <td>14</td>\n",
              "    </tr>\n",
              "    <tr>\n",
              "      <th>8</th>\n",
              "      <td>9</td>\n",
              "      <td>198</td>\n",
              "      <td>510</td>\n",
              "      <td>30</td>\n",
              "    </tr>\n",
              "    <tr>\n",
              "      <th>9</th>\n",
              "      <td>10</td>\n",
              "      <td>158</td>\n",
              "      <td>416</td>\n",
              "      <td>16</td>\n",
              "    </tr>\n",
              "    <tr>\n",
              "      <th>10</th>\n",
              "      <td>11</td>\n",
              "      <td>165</td>\n",
              "      <td>393</td>\n",
              "      <td>14</td>\n",
              "    </tr>\n",
              "    <tr>\n",
              "      <th>11</th>\n",
              "      <td>12</td>\n",
              "      <td>201</td>\n",
              "      <td>442</td>\n",
              "      <td>25</td>\n",
              "    </tr>\n",
              "    <tr>\n",
              "      <th>12</th>\n",
              "      <td>13</td>\n",
              "      <td>157</td>\n",
              "      <td>317</td>\n",
              "      <td>52</td>\n",
              "    </tr>\n",
              "    <tr>\n",
              "      <th>13</th>\n",
              "      <td>14</td>\n",
              "      <td>131</td>\n",
              "      <td>311</td>\n",
              "      <td>16</td>\n",
              "    </tr>\n",
              "    <tr>\n",
              "      <th>14</th>\n",
              "      <td>15</td>\n",
              "      <td>166</td>\n",
              "      <td>400</td>\n",
              "      <td>34</td>\n",
              "    </tr>\n",
              "    <tr>\n",
              "      <th>15</th>\n",
              "      <td>16</td>\n",
              "      <td>160</td>\n",
              "      <td>337</td>\n",
              "      <td>31</td>\n",
              "    </tr>\n",
              "    <tr>\n",
              "      <th>16</th>\n",
              "      <td>17</td>\n",
              "      <td>186</td>\n",
              "      <td>423</td>\n",
              "      <td>42</td>\n",
              "    </tr>\n",
              "    <tr>\n",
              "      <th>17</th>\n",
              "      <td>18</td>\n",
              "      <td>125</td>\n",
              "      <td>334</td>\n",
              "      <td>26</td>\n",
              "    </tr>\n",
              "    <tr>\n",
              "      <th>18</th>\n",
              "      <td>19</td>\n",
              "      <td>218</td>\n",
              "      <td>533</td>\n",
              "      <td>16</td>\n",
              "    </tr>\n",
              "    <tr>\n",
              "      <th>19</th>\n",
              "      <td>20</td>\n",
              "      <td>146</td>\n",
              "      <td>344</td>\n",
              "      <td>22</td>\n",
              "    </tr>\n",
              "  </tbody>\n",
              "</table>\n",
              "</div>"
            ],
            "text/plain": [
              "    ID    x    y  σy\n",
              "5    6   58  173  15\n",
              "6    7  210  479  27\n",
              "7    8  202  504  14\n",
              "8    9  198  510  30\n",
              "9   10  158  416  16\n",
              "10  11  165  393  14\n",
              "11  12  201  442  25\n",
              "12  13  157  317  52\n",
              "13  14  131  311  16\n",
              "14  15  166  400  34\n",
              "15  16  160  337  31\n",
              "16  17  186  423  42\n",
              "17  18  125  334  26\n",
              "18  19  218  533  16\n",
              "19  20  146  344  22"
            ]
          },
          "metadata": {
            "tags": []
          },
          "execution_count": 122
        }
      ]
    },
    {
      "cell_type": "code",
      "metadata": {
        "id": "KCRL_6aZR5sl",
        "colab_type": "code",
        "colab": {}
      },
      "source": [
        "from sklearn.model_selection import train_test_split\n",
        "from sklearn.linear_model import LinearRegression\n",
        "from sklearn.preprocessing import PolynomialFeatures\n",
        "from sklearn import metrics\n",
        "import seaborn as seabornInstance"
      ],
      "execution_count": 0,
      "outputs": []
    },
    {
      "cell_type": "code",
      "metadata": {
        "id": "Mb7BD7Vrz499",
        "colab_type": "code",
        "colab": {}
      },
      "source": [
        "x = np.array(set2.x).reshape(-1,1)\n",
        "y = np.array(set2.y).reshape(-1,1)"
      ],
      "execution_count": 0,
      "outputs": []
    },
    {
      "cell_type": "code",
      "metadata": {
        "id": "R2wDWdYp6LRw",
        "colab_type": "code",
        "colab": {}
      },
      "source": [
        "x_train, x_test, y_train, y_test=train_test_split(x,y,test_size=0.2,random_state=0)"
      ],
      "execution_count": 0,
      "outputs": []
    },
    {
      "cell_type": "code",
      "metadata": {
        "id": "gZQeGcZr63bH",
        "colab_type": "code",
        "outputId": "94f73704-f7ee-47e1-f4c3-e42686631e38",
        "colab": {
          "base_uri": "https://localhost:8080/",
          "height": 34
        }
      },
      "source": [
        "regressor = LinearRegression()  \n",
        "regressor.fit(x_train, y_train)"
      ],
      "execution_count": 126,
      "outputs": [
        {
          "output_type": "execute_result",
          "data": {
            "text/plain": [
              "LinearRegression(copy_X=True, fit_intercept=True, n_jobs=None, normalize=False)"
            ]
          },
          "metadata": {
            "tags": []
          },
          "execution_count": 126
        }
      ]
    },
    {
      "cell_type": "code",
      "metadata": {
        "id": "A4mEa2Ae66Qz",
        "colab_type": "code",
        "colab": {}
      },
      "source": [
        "y_pred = regressor.predict(x_test)"
      ],
      "execution_count": 0,
      "outputs": []
    },
    {
      "cell_type": "code",
      "metadata": {
        "colab_type": "code",
        "id": "qGbzkLpSzGqi",
        "colab": {}
      },
      "source": [
        "lr = LinearRegression()\n",
        "linefit = lr.fit(X,set2.y)"
      ],
      "execution_count": 0,
      "outputs": []
    },
    {
      "cell_type": "code",
      "metadata": {
        "id": "sof2jrpp3WrH",
        "colab_type": "code",
        "outputId": "2778723d-a503-4f03-fa92-332de9415280",
        "colab": {
          "base_uri": "https://localhost:8080/",
          "height": 632
        }
      },
      "source": [
        "ax = plt.figure(figsize=(10,10)).add_subplot(111)\n",
        "\n",
        "plt.errorbar(set2.x,\n",
        "             set2.y,\n",
        "             yerr = set2.σy,fmt='o')\n",
        "plt.plot(x_test, y_pred)\n",
        "\n",
        "plt.ylabel(\"y\", fontsize=20)\n",
        "plt.xlabel(\"x\", fontsize=20)\n"
      ],
      "execution_count": 129,
      "outputs": [
        {
          "output_type": "execute_result",
          "data": {
            "text/plain": [
              "Text(0.5, 0, 'x')"
            ]
          },
          "metadata": {
            "tags": []
          },
          "execution_count": 129
        },
        {
          "output_type": "display_data",
          "data": {
            "image/png": "[encoded data removed]",
            "text/plain": [
              "<Figure size 720x720 with 1 Axes>"
            ]
          },
          "metadata": {
            "tags": []
          }
        }
      ]
    },
    {
      "cell_type": "code",
      "metadata": {
        "id": "BXgILnNSB4y_",
        "colab_type": "code",
        "outputId": "5888b01f-fa5d-4bbb-b1d3-cac3ae159338",
        "colab": {
          "base_uri": "https://localhost:8080/",
          "height": 632
        }
      },
      "source": [
        "set3 = set1.iloc[:, 0:4]\n",
        "x3 = np.array(set3.x).reshape(-1,1)\n",
        "y3 = np.array(set3.y).reshape(-1,1)\n",
        "x3_train, x3_test, y3_train, y3_test=train_test_split(x3,y3,test_size=0.2,random_state=0)\n",
        "regressor = LinearRegression()  \n",
        "regressor.fit(x3_train, y3_train)\n",
        "y_pred3 = regressor.predict(x3_test)\n",
        "ax = plt.figure(figsize=(10,10)).add_subplot(111)\n",
        "\n",
        "plt.errorbar(set3.x,\n",
        "             set3.y,\n",
        "             yerr = set3.σy,fmt='o')\n",
        "plt.plot(x3_test, y_pred3)\n",
        "plt.ylabel(\"y\", fontsize=20)\n",
        "plt.xlabel(\"x\", fontsize=20)"
      ],
      "execution_count": 138,
      "outputs": [
        {
          "output_type": "execute_result",
          "data": {
            "text/plain": [
              "Text(0.5, 0, 'x')"
            ]
          },
          "metadata": {
            "tags": []
          },
          "execution_count": 138
        },
        {
          "output_type": "display_data",
          "data": {
            "image/png": "[encoded data removed]",
            "text/plain": [
              "<Figure size 720x720 with 1 Axes>"
            ]
          },
          "metadata": {
            "tags": []
          }
        }
      ]
    },
    {
      "cell_type": "code",
      "metadata": {
        "id": "Z-HFLDhOrlKG",
        "colab_type": "code",
        "colab": {}
      },
      "source": [
        "set4 = set1.iloc[:, 0:4]\n",
        "x4 = np.array(set4.x).reshape(-1,1)\n",
        "y4 = np.array(set4.y).reshape(-1,1)\n",
        "x4_train, x4_test, y4_train, y4_test=train_test_split(x4,y4,test_size=0.2,random_state=0)"
      ],
      "execution_count": 0,
      "outputs": []
    },
    {
      "cell_type": "code",
      "metadata": {
        "id": "Pmk_ZQQ9t5Nm",
        "colab_type": "code",
        "colab": {}
      },
      "source": [
        "poly=PolynomialFeatures(degree=2)"
      ],
      "execution_count": 0,
      "outputs": []
    },
    {
      "cell_type": "code",
      "metadata": {
        "id": "jLhXwQQpt-Iu",
        "colab_type": "code",
        "colab": {}
      },
      "source": [
        "X_poly=poly.fit_transform(x4_train)"
      ],
      "execution_count": 0,
      "outputs": []
    },
    {
      "cell_type": "code",
      "metadata": {
        "id": "ZIKVg9uluFcd",
        "colab_type": "code",
        "colab": {
          "base_uri": "https://localhost:8080/",
          "height": 50
        },
        "outputId": "d9b5234b-a32b-4611-f1d9-d096a6dff763"
      },
      "source": [
        "poly.fit(X_poly,y4)"
      ],
      "execution_count": 229,
      "outputs": [
        {
          "output_type": "execute_result",
          "data": {
            "text/plain": [
              "PolynomialFeatures(degree=2, include_bias=True, interaction_only=False,\n",
              "                   order='C')"
            ]
          },
          "metadata": {
            "tags": []
          },
          "execution_count": 229
        }
      ]
    },
    {
      "cell_type": "code",
      "metadata": {
        "id": "sUxtH-v4uLNN",
        "colab_type": "code",
        "colab": {}
      },
      "source": [
        "lr=LinearRegression()"
      ],
      "execution_count": 0,
      "outputs": []
    },
    {
      "cell_type": "code",
      "metadata": {
        "id": "MNMnyVqyuRA1",
        "colab_type": "code",
        "colab": {
          "base_uri": "https://localhost:8080/",
          "height": 34
        },
        "outputId": "69a3e62c-29aa-4cc8-dfe9-7f95cf4f6855"
      },
      "source": [
        "lr.fit(X_poly,y4_train)"
      ],
      "execution_count": 231,
      "outputs": [
        {
          "output_type": "execute_result",
          "data": {
            "text/plain": [
              "LinearRegression(copy_X=True, fit_intercept=True, n_jobs=None, normalize=False)"
            ]
          },
          "metadata": {
            "tags": []
          },
          "execution_count": 231
        }
      ]
    },
    {
      "cell_type": "code",
      "metadata": {
        "id": "NcziBN8TuZnd",
        "colab_type": "code",
        "colab": {}
      },
      "source": [
        "y_pred4 = lr.predict(X_poly)"
      ],
      "execution_count": 0,
      "outputs": []
    },
    {
      "cell_type": "code",
      "metadata": {
        "id": "Z5_VSoDPujVd",
        "colab_type": "code",
        "colab": {
          "base_uri": "https://localhost:8080/",
          "height": 632
        },
        "outputId": "228a87e4-cfa1-482c-8d97-5f72f5557a8a"
      },
      "source": [
        "ax = plt.figure(figsize=(10,10)).add_subplot(111)\n",
        "plt.errorbar(set4.x,\n",
        "             set4.y,\n",
        "             yerr = set4.σy,fmt='o')\n",
        "plt.plot(x4_train, y_pred4)\n",
        "plt.ylabel(\"y\", fontsize=20)\n",
        "plt.xlabel(\"x\", fontsize=20)"
      ],
      "execution_count": 235,
      "outputs": [
        {
          "output_type": "execute_result",
          "data": {
            "text/plain": [
              "Text(0.5, 0, 'x')"
            ]
          },
          "metadata": {
            "tags": []
          },
          "execution_count": 235
        },
        {
          "output_type": "display_data",
          "data": {
            "image/png": "[encoded data removed]",
            "text/plain": [
              "<Figure size 720x720 with 1 Axes>"
            ]
          },
          "metadata": {
            "tags": []
          }
        }
      ]
    },
    {
      "cell_type": "code",
      "metadata": {
        "id": "wgXAvd7luz8O",
        "colab_type": "code",
        "colab": {}
      },
      "source": [
        ""
      ],
      "execution_count": 0,
      "outputs": []
    }
  ]
}
